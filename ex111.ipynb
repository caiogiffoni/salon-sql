{
  "nbformat": 4,
  "nbformat_minor": 0,
  "metadata": {
    "colab": {
      "provenance": [],
      "authorship_tag": "ABX9TyMtokAnYWtYBTT6/VkFNJxl",
      "include_colab_link": true
    },
    "kernelspec": {
      "name": "python3",
      "display_name": "Python 3"
    },
    "language_info": {
      "name": "python"
    }
  },
  "cells": [
    {
      "cell_type": "markdown",
      "metadata": {
        "id": "view-in-github",
        "colab_type": "text"
      },
      "source": [
        "<a href=\"https://colab.research.google.com/github/caiogiffoni/salon-sql/blob/main/ex111.ipynb\" target=\"_parent\"><img src=\"https://colab.research.google.com/assets/colab-badge.svg\" alt=\"Open In Colab\"/></a>"
      ]
    },
    {
      "cell_type": "code",
      "execution_count": 6,
      "metadata": {
        "id": "mWyYEteQpGIa"
      },
      "outputs": [],
      "source": [
        "import pandas as pd\n",
        "cadFunc = pd.read_csv(r'/content/CadastroFuncionarios.csv', sep=';')\n",
        "cadCli = pd.read_csv(r'/content/CadastroClientes.csv', sep=';')\n",
        "sevPrest = pd.read_excel(r'/content/BaseServiçosPrestados.xlsx')"
      ]
    },
    {
      "cell_type": "code",
      "source": [
        "display(cadFunc.info())\n",
        "cadFunc['Impostos'] = [x.replace(',', '.') for x in cadFunc['Impostos']]\n",
        "cadFunc['Beneficios'] = [x.replace(',', '.') for x in cadFunc['Beneficios']]\n",
        "cadFunc['VR'] = [x.replace(',', '.') for x in cadFunc['VR']]\n",
        "cadFunc= cadFunc.astype({\"VR\" :'float64', \"VT\" :'float64', \"Impostos\" :'float64', \"Beneficios\" :'float64'})\n",
        "display(cadFunc.info())"
      ],
      "metadata": {
        "colab": {
          "base_uri": "https://localhost:8080/",
          "height": 329
        },
        "id": "pX5MqhPvpsOb",
        "outputId": "2aeb97b0-66e9-4397-f9f2-325ae91a5e48"
      },
      "execution_count": null,
      "outputs": [
        {
          "output_type": "stream",
          "name": "stdout",
          "text": [
            "<class 'pandas.core.frame.DataFrame'>\n",
            "RangeIndex: 114 entries, 0 to 113\n",
            "Data columns (total 10 columns):\n",
            " #   Column          Non-Null Count  Dtype  \n",
            "---  ------          --------------  -----  \n",
            " 0   ID Funcionário  114 non-null    int64  \n",
            " 1   Estado Civil    114 non-null    object \n",
            " 2   Nome Completo   114 non-null    object \n",
            " 3   Salario Base    114 non-null    int64  \n",
            " 4   Impostos        114 non-null    float64\n",
            " 5   Beneficios      114 non-null    float64\n",
            " 6   VT              114 non-null    float64\n",
            " 7   VR              114 non-null    float64\n",
            " 8   Cargo           114 non-null    object \n",
            " 9   Area            114 non-null    object \n",
            "dtypes: float64(4), int64(2), object(4)\n",
            "memory usage: 9.0+ KB\n"
          ]
        },
        {
          "output_type": "display_data",
          "data": {
            "text/plain": [
              "None"
            ]
          },
          "metadata": {}
        }
      ]
    },
    {
      "cell_type": "code",
      "source": [
        "import locale\n",
        "# cadFunc['Total'] = cadFunc['Salario Base'] + cadFunc['Impostos'] + cadFunc['Beneficios'] + cadFunc['VT'] + cadFunc['VR']\n",
        "# display(cadFunc)\n",
        "display(cadFunc['Total'].sum())\n",
        "print(f'{sum(cadFunc[\"Total\"])}')\n",
        "print('R$ {:,.2f}'.format(sum(cadFunc[\"Total\"])))"
      ],
      "metadata": {
        "colab": {
          "base_uri": "https://localhost:8080/",
          "height": 69
        },
        "id": "qbpVySKUqPva",
        "outputId": "fe37ee7f-16af-48a2-b3ec-7aaf72bad9cf"
      },
      "execution_count": 33,
      "outputs": [
        {
          "output_type": "display_data",
          "data": {
            "text/plain": [
              "2717493.22"
            ]
          },
          "metadata": {}
        },
        {
          "output_type": "stream",
          "name": "stdout",
          "text": [
            "2717493.22\n",
            "R$ 2,717,493.22\n"
          ]
        }
      ]
    },
    {
      "cell_type": "code",
      "source": [
        "# display(cadCli)\n",
        "# display(sevPrest)\n",
        "# display(cadCli.merge(sevPrest, on='ID Cliente'))\n",
        "serPresClien = cadCli.merge(sevPrest, on='ID Cliente')\n",
        "# display(serPresClien)\n",
        "serPresClien['Faturamento'] = serPresClien['Valor Contrato Mensal'] * serPresClien['Tempo Total de Contrato (Meses)']\n",
        "display(serPresClien['Faturamento'].sum())\n",
        "print('R$ {:,.2f}'.format(sum(serPresClien['Faturamento'])))"
      ],
      "metadata": {
        "colab": {
          "base_uri": "https://localhost:8080/",
          "height": 52
        },
        "id": "eca9duIPtJpU",
        "outputId": "ba9c04b0-20ef-4ccd-e070-739e21ca8935"
      },
      "execution_count": 46,
      "outputs": [
        {
          "output_type": "display_data",
          "data": {
            "text/plain": [
              "5519160"
            ]
          },
          "metadata": {}
        },
        {
          "output_type": "stream",
          "name": "stdout",
          "text": [
            "R$ 5,519,160.00\n"
          ]
        }
      ]
    },
    {
      "cell_type": "code",
      "source": [
        "display(len(sevPrest['ID Funcionário'].unique())/len(cadFunc))\n",
        "# display(sevPres.groupby('ID Funcionário').count())\n",
        "qtdFunc = len(cadFunc)\n"
      ],
      "metadata": {
        "colab": {
          "base_uri": "https://localhost:8080/",
          "height": 34
        },
        "id": "PWae7m364xX9",
        "outputId": "4cad5733-618b-4198-ca2a-76f7476f59d4"
      },
      "execution_count": 62,
      "outputs": [
        {
          "output_type": "display_data",
          "data": {
            "text/plain": [
              "0.868421052631579"
            ]
          },
          "metadata": {}
        }
      ]
    },
    {
      "cell_type": "code",
      "source": [
        "display(cadFunc.merge(sevPrest, on='ID Funcionário')['Area'].value_counts())\n",
        "x = cadFunc.merge(sevPrest, on='ID Funcionário')['Area'].value_counts()\n",
        "display(x)\n",
        "x.plot(kind='bar')"
      ],
      "metadata": {
        "id": "LRuOt6JiBaX6",
        "outputId": "4baf05af-348d-4951-aa72-738931a546ef",
        "colab": {
          "base_uri": "https://localhost:8080/",
          "height": 554
        }
      },
      "execution_count": 14,
      "outputs": [
        {
          "output_type": "display_data",
          "data": {
            "text/plain": [
              "Administrativo    63\n",
              "Operações         48\n",
              "Comercial         44\n",
              "Financeiro        42\n",
              "Logística         40\n",
              "Name: Area, dtype: int64"
            ]
          },
          "metadata": {}
        },
        {
          "output_type": "display_data",
          "data": {
            "text/plain": [
              "Administrativo    63\n",
              "Operações         48\n",
              "Comercial         44\n",
              "Financeiro        42\n",
              "Logística         40\n",
              "Name: Area, dtype: int64"
            ]
          },
          "metadata": {}
        },
        {
          "output_type": "execute_result",
          "data": {
            "text/plain": [
              "<matplotlib.axes._subplots.AxesSubplot at 0x7f10a8aafbb0>"
            ]
          },
          "metadata": {},
          "execution_count": 14
        },
        {
          "output_type": "display_data",
          "data": {
            "text/plain": [
              "<Figure size 432x288 with 1 Axes>"
            ],
            "image/png": "[encoded data removed]"
          },
          "metadata": {
            "needs_background": "light"
          }
        }
      ]
    },
    {
      "cell_type": "code",
      "source": [
        "display(sevPrest)\n",
        "display(cadCli['Valor Contrato Mensal'].mean())"
      ],
      "metadata": {
        "id": "upNEkbvYETCI",
        "outputId": "fb396111-be8f-43f0-c404-10264b06764f",
        "colab": {
          "base_uri": "https://localhost:8080/",
          "height": 441
        }
      },
      "execution_count": 10,
      "outputs": [
        {
          "output_type": "display_data",
          "data": {
            "text/plain": [
              "    Codigo do Servico  ID Funcionário  ID Cliente  \\\n",
              "0              OS0001              67           1   \n",
              "1              OS0002              17           2   \n",
              "2              OS0003             116           4   \n",
              "3              OS0004              37           5   \n",
              "4              OS0005             130           6   \n",
              "..                ...             ...         ...   \n",
              "232            OS0233             111         315   \n",
              "233            OS0234             124         316   \n",
              "234            OS0235              72         317   \n",
              "235            OS0236              90         319   \n",
              "236            OS0237              22         320   \n",
              "\n",
              "     Tempo Total de Contrato (Meses)  \n",
              "0                                 14  \n",
              "1                                 12  \n",
              "2                                 14  \n",
              "3                                  8  \n",
              "4                                  8  \n",
              "..                               ...  \n",
              "232                                4  \n",
              "233                                8  \n",
              "234                                6  \n",
              "235                               14  \n",
              "236                               12  \n",
              "\n",
              "[237 rows x 4 columns]"
            ],
            "text/html": [
              "\n",
              "  <div id=\"df-3d73622e-5104-4b2e-bac8-2bec5f35c813\">\n",
              "    <div class=\"colab-df-container\">\n",
              "      <div>\n",
              "<style scoped>\n",
              "    .dataframe tbody tr th:only-of-type {\n",
              "        vertical-align: middle;\n",
              "    }\n",
              "\n",
              "    .dataframe tbody tr th {\n",
              "        vertical-align: top;\n",
              "    }\n",
              "\n",
              "    .dataframe thead th {\n",
              "        text-align: right;\n",
              "    }\n",
              "</style>\n",
              "<table border=\"1\" class=\"dataframe\">\n",
              "  <thead>\n",
              "    <tr style=\"text-align: right;\">\n",
              "      <th></th>\n",
              "      <th>Codigo do Servico</th>\n",
              "      <th>ID Funcionário</th>\n",
              "      <th>ID Cliente</th>\n",
              "      <th>Tempo Total de Contrato (Meses)</th>\n",
              "    </tr>\n",
              "  </thead>\n",
              "  <tbody>\n",
              "    <tr>\n",
              "      <th>0</th>\n",
              "      <td>OS0001</td>\n",
              "      <td>67</td>\n",
              "      <td>1</td>\n",
              "      <td>14</td>\n",
              "    </tr>\n",
              "    <tr>\n",
              "      <th>1</th>\n",
              "      <td>OS0002</td>\n",
              "      <td>17</td>\n",
              "      <td>2</td>\n",
              "      <td>12</td>\n",
              "    </tr>\n",
              "    <tr>\n",
              "      <th>2</th>\n",
              "      <td>OS0003</td>\n",
              "      <td>116</td>\n",
              "      <td>4</td>\n",
              "      <td>14</td>\n",
              "    </tr>\n",
              "    <tr>\n",
              "      <th>3</th>\n",
              "      <td>OS0004</td>\n",
              "      <td>37</td>\n",
              "      <td>5</td>\n",
              "      <td>8</td>\n",
              "    </tr>\n",
              "    <tr>\n",
              "      <th>4</th>\n",
              "      <td>OS0005</td>\n",
              "      <td>130</td>\n",
              "      <td>6</td>\n",
              "      <td>8</td>\n",
              "    </tr>\n",
              "    <tr>\n",
              "      <th>...</th>\n",
              "      <td>...</td>\n",
              "      <td>...</td>\n",
              "      <td>...</td>\n",
              "      <td>...</td>\n",
              "    </tr>\n",
              "    <tr>\n",
              "      <th>232</th>\n",
              "      <td>OS0233</td>\n",
              "      <td>111</td>\n",
              "      <td>315</td>\n",
              "      <td>4</td>\n",
              "    </tr>\n",
              "    <tr>\n",
              "      <th>233</th>\n",
              "      <td>OS0234</td>\n",
              "      <td>124</td>\n",
              "      <td>316</td>\n",
              "      <td>8</td>\n",
              "    </tr>\n",
              "    <tr>\n",
              "      <th>234</th>\n",
              "      <td>OS0235</td>\n",
              "      <td>72</td>\n",
              "      <td>317</td>\n",
              "      <td>6</td>\n",
              "    </tr>\n",
              "    <tr>\n",
              "      <th>235</th>\n",
              "      <td>OS0236</td>\n",
              "      <td>90</td>\n",
              "      <td>319</td>\n",
              "      <td>14</td>\n",
              "    </tr>\n",
              "    <tr>\n",
              "      <th>236</th>\n",
              "      <td>OS0237</td>\n",
              "      <td>22</td>\n",
              "      <td>320</td>\n",
              "      <td>12</td>\n",
              "    </tr>\n",
              "  </tbody>\n",
              "</table>\n",
              "<p>237 rows × 4 columns</p>\n",
              "</div>\n",
              "      <button class=\"colab-df-convert\" onclick=\"convertToInteractive('df-3d73622e-5104-4b2e-bac8-2bec5f35c813')\"\n",
              "              title=\"Convert this dataframe to an interactive table.\"\n",
              "              style=\"display:none;\">\n",
              "        \n",
              "  <svg xmlns=\"http://www.w3.org/2000/svg\" height=\"24px\"viewBox=\"0 0 24 24\"\n",
              "       width=\"24px\">\n",
              "    <path d=\"M0 0h24v24H0V0z\" fill=\"none\"/>\n",
              "    <path d=\"M18.56 5.44l.94 2.06.94-2.06 2.06-.94-2.06-.94-.94-2.06-.94 2.06-2.06.94zm-11 1L8.5 8.5l.94-2.06 2.06-.94-2.06-.94L8.5 2.5l-.94 2.06-2.06.94zm10 10l.94 2.06.94-2.06 2.06-.94-2.06-.94-.94-2.06-.94 2.06-2.06.94z\"/><path d=\"M17.41 7.96l-1.37-1.37c-.4-.4-.92-.59-1.43-.59-.52 0-1.04.2-1.43.59L10.3 9.45l-7.72 7.72c-.78.78-.78 2.05 0 2.83L4 21.41c.39.39.9.59 1.41.59.51 0 1.02-.2 1.41-.59l7.78-7.78 2.81-2.81c.8-.78.8-2.07 0-2.86zM5.41 20L4 18.59l7.72-7.72 1.47 1.35L5.41 20z\"/>\n",
              "  </svg>\n",
              "      </button>\n",
              "      \n",
              "  <style>\n",
              "    .colab-df-container {\n",
              "      display:flex;\n",
              "      flex-wrap:wrap;\n",
              "      gap: 12px;\n",
              "    }\n",
              "\n",
              "    .colab-df-convert {\n",
              "      background-color: #E8F0FE;\n",
              "      border: none;\n",
              "      border-radius: 50%;\n",
              "      cursor: pointer;\n",
              "      display: none;\n",
              "      fill: #1967D2;\n",
              "      height: 32px;\n",
              "      padding: 0 0 0 0;\n",
              "      width: 32px;\n",
              "    }\n",
              "\n",
              "    .colab-df-convert:hover {\n",
              "      background-color: #E2EBFA;\n",
              "      box-shadow: 0px 1px 2px rgba(60, 64, 67, 0.3), 0px 1px 3px 1px rgba(60, 64, 67, 0.15);\n",
              "      fill: #174EA6;\n",
              "    }\n",
              "\n",
              "    [theme=dark] .colab-df-convert {\n",
              "      background-color: #3B4455;\n",
              "      fill: #D2E3FC;\n",
              "    }\n",
              "\n",
              "    [theme=dark] .colab-df-convert:hover {\n",
              "      background-color: #434B5C;\n",
              "      box-shadow: 0px 1px 3px 1px rgba(0, 0, 0, 0.15);\n",
              "      filter: drop-shadow(0px 1px 2px rgba(0, 0, 0, 0.3));\n",
              "      fill: #FFFFFF;\n",
              "    }\n",
              "  </style>\n",
              "\n",
              "      <script>\n",
              "        const buttonEl =\n",
              "          document.querySelector('#df-3d73622e-5104-4b2e-bac8-2bec5f35c813 button.colab-df-convert');\n",
              "        buttonEl.style.display =\n",
              "          google.colab.kernel.accessAllowed ? 'block' : 'none';\n",
              "\n",
              "        async function convertToInteractive(key) {\n",
              "          const element = document.querySelector('#df-3d73622e-5104-4b2e-bac8-2bec5f35c813');\n",
              "          const dataTable =\n",
              "            await google.colab.kernel.invokeFunction('convertToInteractive',\n",
              "                                                     [key], {});\n",
              "          if (!dataTable) return;\n",
              "\n",
              "          const docLinkHtml = 'Like what you see? Visit the ' +\n",
              "            '<a target=\"_blank\" href=https://colab.research.google.com/notebooks/data_table.ipynb>data table notebook</a>'\n",
              "            + ' to learn more about interactive tables.';\n",
              "          element.innerHTML = '';\n",
              "          dataTable['output_type'] = 'display_data';\n",
              "          await google.colab.output.renderOutput(dataTable, element);\n",
              "          const docLink = document.createElement('div');\n",
              "          docLink.innerHTML = docLinkHtml;\n",
              "          element.appendChild(docLink);\n",
              "        }\n",
              "      </script>\n",
              "    </div>\n",
              "  </div>\n",
              "  "
            ]
          },
          "metadata": {}
        },
        {
          "output_type": "display_data",
          "data": {
            "text/plain": [
              "2502.5625"
            ]
          },
          "metadata": {}
        }
      ]
    }
  ]
}